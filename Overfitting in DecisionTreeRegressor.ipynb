{
  "nbformat": 4,
  "nbformat_minor": 0,
  "metadata": {
    "colab": {
      "provenance": [],
      "authorship_tag": "ABX9TyPS3xUKiS43LPyE0h4UnI91",
      "include_colab_link": true
    },
    "kernelspec": {
      "name": "python3",
      "display_name": "Python 3"
    },
    "language_info": {
      "name": "python"
    }
  },
  "cells": [
    {
      "cell_type": "markdown",
      "metadata": {
        "id": "view-in-github",
        "colab_type": "text"
      },
      "source": [
        "<a href=\"https://colab.research.google.com/github/ram30098singh/DEVP-1/blob/main/Overfitting%20in%20DecisionTreeRegressor.ipynb\" target=\"_parent\"><img src=\"https://colab.research.google.com/assets/colab-badge.svg\" alt=\"Open In Colab\"/></a>"
      ]
    },
    {
      "cell_type": "markdown",
      "source": [
        "\n",
        "**Overfitting in DecisionTreeRegressor**\n",
        "```\n",
        "With the following parameters:\n",
        "\n",
        "1.   max_leaf_nodes\n",
        "2.   max_depth\n",
        "3.   min_samples_split\n",
        "4.   max_features\n",
        "\n",
        "\n",
        "```\n",
        "\n"
      ],
      "metadata": {
        "id": "roAy48i2vmYG"
      }
    },
    {
      "cell_type": "code",
      "execution_count": 1,
      "metadata": {
        "id": "lWvF38PGWJCh"
      },
      "outputs": [],
      "source": [
        "# 1.0 Data Loading Code Runs At This Point\n",
        "import pandas as pd\n",
        "\n",
        "# 1.0.1\n",
        "from sklearn.tree import DecisionTreeRegressor\n",
        "from sklearn.model_selection import train_test_split\n",
        "from sklearn.metrics import mean_absolute_error,accuracy_score\n",
        "\n",
        "# 1.0.2\n",
        "from pathlib import Path"
      ]
    },
    {
      "cell_type": "code",
      "source": [
        "# 1.0.3 Get data from gdrive:\n",
        "\n",
        "from google.colab import drive\n",
        "drive.mount('/gdrive')"
      ],
      "metadata": {
        "colab": {
          "base_uri": "https://localhost:8080/"
        },
        "id": "Ps6TqhAcWlJY",
        "outputId": "e47a4860-1c9c-4531-e532-9744999edcd6"
      },
      "execution_count": 2,
      "outputs": [
        {
          "output_type": "stream",
          "name": "stdout",
          "text": [
            "Mounted at /gdrive\n"
          ]
        }
      ]
    },
    {
      "cell_type": "code",
      "source": [
        "# 1.1 Path to data folder:\n",
        "\n",
        "pathToFolder = \"/gdrive/MyDrive/bdda1/bdda1/mobile_price\""
      ],
      "metadata": {
        "id": "_uiyh4AqWuzq"
      },
      "execution_count": 3,
      "outputs": []
    },
    {
      "cell_type": "code",
      "source": [
        "path = Path(pathToFolder) / \"train.csv\""
      ],
      "metadata": {
        "id": "Km6gTS3uW7PU"
      },
      "execution_count": 4,
      "outputs": []
    },
    {
      "cell_type": "code",
      "source": [
        "# 1.2 Display from a cell outputs of multiple commands:\n",
        "\n",
        "from IPython.core.interactiveshell import InteractiveShell\n",
        "InteractiveShell.ast_node_interactivity = \"all\"\n"
      ],
      "metadata": {
        "id": "XHwc8uAvXAZ_"
      },
      "execution_count": 5,
      "outputs": []
    },
    {
      "cell_type": "code",
      "source": [
        "# 1.3 Load data:\n",
        "\n",
        "X = pd.read_csv(path)"
      ],
      "metadata": {
        "id": "JcWIaDxbXSaj"
      },
      "execution_count": 6,
      "outputs": []
    },
    {
      "cell_type": "code",
      "source": [
        "# 1.3.1 About data:\n",
        "\n",
        "X.shape\n",
        "X.head()"
      ],
      "metadata": {
        "colab": {
          "base_uri": "https://localhost:8080/",
          "height": 317
        },
        "id": "TFnw_FlZXlMu",
        "outputId": "8d76130c-6110-483b-a4d5-33ddd35b5c3f"
      },
      "execution_count": 7,
      "outputs": [
        {
          "output_type": "execute_result",
          "data": {
            "text/plain": [
              "(2000, 21)"
            ]
          },
          "metadata": {},
          "execution_count": 7
        },
        {
          "output_type": "execute_result",
          "data": {
            "text/plain": [
              "   battery_power  blue  clock_speed  dual_sim  fc  four_g  int_memory  m_dep  \\\n",
              "0            842     0          2.2         0   1       0           7    0.6   \n",
              "1           1021     1          0.5         1   0       1          53    0.7   \n",
              "2            563     1          0.5         1   2       1          41    0.9   \n",
              "3            615     1          2.5         0   0       0          10    0.8   \n",
              "4           1821     1          1.2         0  13       1          44    0.6   \n",
              "\n",
              "   mobile_wt  n_cores  ...  px_height  px_width   ram  sc_h  sc_w  talk_time  \\\n",
              "0        188        2  ...         20       756  2549     9     7         19   \n",
              "1        136        3  ...        905      1988  2631    17     3          7   \n",
              "2        145        5  ...       1263      1716  2603    11     2          9   \n",
              "3        131        6  ...       1216      1786  2769    16     8         11   \n",
              "4        141        2  ...       1208      1212  1411     8     2         15   \n",
              "\n",
              "   three_g  touch_screen  wifi  price_range  \n",
              "0        0             0     1            1  \n",
              "1        1             1     0            2  \n",
              "2        1             1     0            2  \n",
              "3        1             0     0            2  \n",
              "4        1             1     0            1  \n",
              "\n",
              "[5 rows x 21 columns]"
            ],
            "text/html": [
              "\n",
              "  <div id=\"df-fd184549-b7cf-43c2-8b25-a8e4c4648794\">\n",
              "    <div class=\"colab-df-container\">\n",
              "      <div>\n",
              "<style scoped>\n",
              "    .dataframe tbody tr th:only-of-type {\n",
              "        vertical-align: middle;\n",
              "    }\n",
              "\n",
              "    .dataframe tbody tr th {\n",
              "        vertical-align: top;\n",
              "    }\n",
              "\n",
              "    .dataframe thead th {\n",
              "        text-align: right;\n",
              "    }\n",
              "</style>\n",
              "<table border=\"1\" class=\"dataframe\">\n",
              "  <thead>\n",
              "    <tr style=\"text-align: right;\">\n",
              "      <th></th>\n",
              "      <th>battery_power</th>\n",
              "      <th>blue</th>\n",
              "      <th>clock_speed</th>\n",
              "      <th>dual_sim</th>\n",
              "      <th>fc</th>\n",
              "      <th>four_g</th>\n",
              "      <th>int_memory</th>\n",
              "      <th>m_dep</th>\n",
              "      <th>mobile_wt</th>\n",
              "      <th>n_cores</th>\n",
              "      <th>...</th>\n",
              "      <th>px_height</th>\n",
              "      <th>px_width</th>\n",
              "      <th>ram</th>\n",
              "      <th>sc_h</th>\n",
              "      <th>sc_w</th>\n",
              "      <th>talk_time</th>\n",
              "      <th>three_g</th>\n",
              "      <th>touch_screen</th>\n",
              "      <th>wifi</th>\n",
              "      <th>price_range</th>\n",
              "    </tr>\n",
              "  </thead>\n",
              "  <tbody>\n",
              "    <tr>\n",
              "      <th>0</th>\n",
              "      <td>842</td>\n",
              "      <td>0</td>\n",
              "      <td>2.2</td>\n",
              "      <td>0</td>\n",
              "      <td>1</td>\n",
              "      <td>0</td>\n",
              "      <td>7</td>\n",
              "      <td>0.6</td>\n",
              "      <td>188</td>\n",
              "      <td>2</td>\n",
              "      <td>...</td>\n",
              "      <td>20</td>\n",
              "      <td>756</td>\n",
              "      <td>2549</td>\n",
              "      <td>9</td>\n",
              "      <td>7</td>\n",
              "      <td>19</td>\n",
              "      <td>0</td>\n",
              "      <td>0</td>\n",
              "      <td>1</td>\n",
              "      <td>1</td>\n",
              "    </tr>\n",
              "    <tr>\n",
              "      <th>1</th>\n",
              "      <td>1021</td>\n",
              "      <td>1</td>\n",
              "      <td>0.5</td>\n",
              "      <td>1</td>\n",
              "      <td>0</td>\n",
              "      <td>1</td>\n",
              "      <td>53</td>\n",
              "      <td>0.7</td>\n",
              "      <td>136</td>\n",
              "      <td>3</td>\n",
              "      <td>...</td>\n",
              "      <td>905</td>\n",
              "      <td>1988</td>\n",
              "      <td>2631</td>\n",
              "      <td>17</td>\n",
              "      <td>3</td>\n",
              "      <td>7</td>\n",
              "      <td>1</td>\n",
              "      <td>1</td>\n",
              "      <td>0</td>\n",
              "      <td>2</td>\n",
              "    </tr>\n",
              "    <tr>\n",
              "      <th>2</th>\n",
              "      <td>563</td>\n",
              "      <td>1</td>\n",
              "      <td>0.5</td>\n",
              "      <td>1</td>\n",
              "      <td>2</td>\n",
              "      <td>1</td>\n",
              "      <td>41</td>\n",
              "      <td>0.9</td>\n",
              "      <td>145</td>\n",
              "      <td>5</td>\n",
              "      <td>...</td>\n",
              "      <td>1263</td>\n",
              "      <td>1716</td>\n",
              "      <td>2603</td>\n",
              "      <td>11</td>\n",
              "      <td>2</td>\n",
              "      <td>9</td>\n",
              "      <td>1</td>\n",
              "      <td>1</td>\n",
              "      <td>0</td>\n",
              "      <td>2</td>\n",
              "    </tr>\n",
              "    <tr>\n",
              "      <th>3</th>\n",
              "      <td>615</td>\n",
              "      <td>1</td>\n",
              "      <td>2.5</td>\n",
              "      <td>0</td>\n",
              "      <td>0</td>\n",
              "      <td>0</td>\n",
              "      <td>10</td>\n",
              "      <td>0.8</td>\n",
              "      <td>131</td>\n",
              "      <td>6</td>\n",
              "      <td>...</td>\n",
              "      <td>1216</td>\n",
              "      <td>1786</td>\n",
              "      <td>2769</td>\n",
              "      <td>16</td>\n",
              "      <td>8</td>\n",
              "      <td>11</td>\n",
              "      <td>1</td>\n",
              "      <td>0</td>\n",
              "      <td>0</td>\n",
              "      <td>2</td>\n",
              "    </tr>\n",
              "    <tr>\n",
              "      <th>4</th>\n",
              "      <td>1821</td>\n",
              "      <td>1</td>\n",
              "      <td>1.2</td>\n",
              "      <td>0</td>\n",
              "      <td>13</td>\n",
              "      <td>1</td>\n",
              "      <td>44</td>\n",
              "      <td>0.6</td>\n",
              "      <td>141</td>\n",
              "      <td>2</td>\n",
              "      <td>...</td>\n",
              "      <td>1208</td>\n",
              "      <td>1212</td>\n",
              "      <td>1411</td>\n",
              "      <td>8</td>\n",
              "      <td>2</td>\n",
              "      <td>15</td>\n",
              "      <td>1</td>\n",
              "      <td>1</td>\n",
              "      <td>0</td>\n",
              "      <td>1</td>\n",
              "    </tr>\n",
              "  </tbody>\n",
              "</table>\n",
              "<p>5 rows × 21 columns</p>\n",
              "</div>\n",
              "      <button class=\"colab-df-convert\" onclick=\"convertToInteractive('df-fd184549-b7cf-43c2-8b25-a8e4c4648794')\"\n",
              "              title=\"Convert this dataframe to an interactive table.\"\n",
              "              style=\"display:none;\">\n",
              "        \n",
              "  <svg xmlns=\"http://www.w3.org/2000/svg\" height=\"24px\"viewBox=\"0 0 24 24\"\n",
              "       width=\"24px\">\n",
              "    <path d=\"M0 0h24v24H0V0z\" fill=\"none\"/>\n",
              "    <path d=\"M18.56 5.44l.94 2.06.94-2.06 2.06-.94-2.06-.94-.94-2.06-.94 2.06-2.06.94zm-11 1L8.5 8.5l.94-2.06 2.06-.94-2.06-.94L8.5 2.5l-.94 2.06-2.06.94zm10 10l.94 2.06.94-2.06 2.06-.94-2.06-.94-.94-2.06-.94 2.06-2.06.94z\"/><path d=\"M17.41 7.96l-1.37-1.37c-.4-.4-.92-.59-1.43-.59-.52 0-1.04.2-1.43.59L10.3 9.45l-7.72 7.72c-.78.78-.78 2.05 0 2.83L4 21.41c.39.39.9.59 1.41.59.51 0 1.02-.2 1.41-.59l7.78-7.78 2.81-2.81c.8-.78.8-2.07 0-2.86zM5.41 20L4 18.59l7.72-7.72 1.47 1.35L5.41 20z\"/>\n",
              "  </svg>\n",
              "      </button>\n",
              "      \n",
              "  <style>\n",
              "    .colab-df-container {\n",
              "      display:flex;\n",
              "      flex-wrap:wrap;\n",
              "      gap: 12px;\n",
              "    }\n",
              "\n",
              "    .colab-df-convert {\n",
              "      background-color: #E8F0FE;\n",
              "      border: none;\n",
              "      border-radius: 50%;\n",
              "      cursor: pointer;\n",
              "      display: none;\n",
              "      fill: #1967D2;\n",
              "      height: 32px;\n",
              "      padding: 0 0 0 0;\n",
              "      width: 32px;\n",
              "    }\n",
              "\n",
              "    .colab-df-convert:hover {\n",
              "      background-color: #E2EBFA;\n",
              "      box-shadow: 0px 1px 2px rgba(60, 64, 67, 0.3), 0px 1px 3px 1px rgba(60, 64, 67, 0.15);\n",
              "      fill: #174EA6;\n",
              "    }\n",
              "\n",
              "    [theme=dark] .colab-df-convert {\n",
              "      background-color: #3B4455;\n",
              "      fill: #D2E3FC;\n",
              "    }\n",
              "\n",
              "    [theme=dark] .colab-df-convert:hover {\n",
              "      background-color: #434B5C;\n",
              "      box-shadow: 0px 1px 3px 1px rgba(0, 0, 0, 0.15);\n",
              "      filter: drop-shadow(0px 1px 2px rgba(0, 0, 0, 0.3));\n",
              "      fill: #FFFFFF;\n",
              "    }\n",
              "  </style>\n",
              "\n",
              "      <script>\n",
              "        const buttonEl =\n",
              "          document.querySelector('#df-fd184549-b7cf-43c2-8b25-a8e4c4648794 button.colab-df-convert');\n",
              "        buttonEl.style.display =\n",
              "          google.colab.kernel.accessAllowed ? 'block' : 'none';\n",
              "\n",
              "        async function convertToInteractive(key) {\n",
              "          const element = document.querySelector('#df-fd184549-b7cf-43c2-8b25-a8e4c4648794');\n",
              "          const dataTable =\n",
              "            await google.colab.kernel.invokeFunction('convertToInteractive',\n",
              "                                                     [key], {});\n",
              "          if (!dataTable) return;\n",
              "\n",
              "          const docLinkHtml = 'Like what you see? Visit the ' +\n",
              "            '<a target=\"_blank\" href=https://colab.research.google.com/notebooks/data_table.ipynb>data table notebook</a>'\n",
              "            + ' to learn more about interactive tables.';\n",
              "          element.innerHTML = '';\n",
              "          dataTable['output_type'] = 'display_data';\n",
              "          await google.colab.output.renderOutput(dataTable, element);\n",
              "          const docLink = document.createElement('div');\n",
              "          docLink.innerHTML = docLinkHtml;\n",
              "          element.appendChild(docLink);\n",
              "        }\n",
              "      </script>\n",
              "    </div>\n",
              "  </div>\n",
              "  "
            ]
          },
          "metadata": {},
          "execution_count": 7
        }
      ]
    },
    {
      "cell_type": "code",
      "source": [
        "# 1.3.2 Data types:\n",
        "X.dtypes"
      ],
      "metadata": {
        "colab": {
          "base_uri": "https://localhost:8080/"
        },
        "id": "5I1LjlnuXoiP",
        "outputId": "776347ab-4acf-4a18-9fc7-d954a5c8d45d"
      },
      "execution_count": 8,
      "outputs": [
        {
          "output_type": "execute_result",
          "data": {
            "text/plain": [
              "battery_power      int64\n",
              "blue               int64\n",
              "clock_speed      float64\n",
              "dual_sim           int64\n",
              "fc                 int64\n",
              "four_g             int64\n",
              "int_memory         int64\n",
              "m_dep            float64\n",
              "mobile_wt          int64\n",
              "n_cores            int64\n",
              "pc                 int64\n",
              "px_height          int64\n",
              "px_width           int64\n",
              "ram                int64\n",
              "sc_h               int64\n",
              "sc_w               int64\n",
              "talk_time          int64\n",
              "three_g            int64\n",
              "touch_screen       int64\n",
              "wifi               int64\n",
              "price_range        int64\n",
              "dtype: object"
            ]
          },
          "metadata": {},
          "execution_count": 8
        }
      ]
    },
    {
      "cell_type": "code",
      "source": [
        "# 1.2 How many unique values each column has:\n",
        "\n",
        "for i in X.columns:\n",
        "  print(i, X[i].nunique())\n"
      ],
      "metadata": {
        "colab": {
          "base_uri": "https://localhost:8080/"
        },
        "id": "KF8_2WWXXzNP",
        "outputId": "3f0796c6-0b93-4d08-a554-cbe329d08083"
      },
      "execution_count": 9,
      "outputs": [
        {
          "output_type": "stream",
          "name": "stdout",
          "text": [
            "battery_power 1094\n",
            "blue 2\n",
            "clock_speed 26\n",
            "dual_sim 2\n",
            "fc 20\n",
            "four_g 2\n",
            "int_memory 63\n",
            "m_dep 10\n",
            "mobile_wt 121\n",
            "n_cores 8\n",
            "pc 21\n",
            "px_height 1137\n",
            "px_width 1109\n",
            "ram 1562\n",
            "sc_h 15\n",
            "sc_w 19\n",
            "talk_time 19\n",
            "three_g 2\n",
            "touch_screen 2\n",
            "wifi 2\n",
            "price_range 4\n"
          ]
        }
      ]
    },
    {
      "cell_type": "code",
      "source": [
        "\n",
        "# 1.5 Filter rows with missing values\n",
        "X.isnull().sum().sum()\n"
      ],
      "metadata": {
        "colab": {
          "base_uri": "https://localhost:8080/"
        },
        "id": "Vo1v7_VHX2tL",
        "outputId": "60fba691-5c8b-4257-b107-111a08974c5c"
      },
      "execution_count": 10,
      "outputs": [
        {
          "output_type": "execute_result",
          "data": {
            "text/plain": [
              "0"
            ]
          },
          "metadata": {},
          "execution_count": 10
        }
      ]
    },
    {
      "cell_type": "code",
      "source": [
        "\n",
        "# 2.0 Choose target and features\n",
        "y = X.ram\n",
        "X.pop('ram')"
      ],
      "metadata": {
        "colab": {
          "base_uri": "https://localhost:8080/"
        },
        "id": "uDkvKBT8X50w",
        "outputId": "a1f42344-892b-42ef-ef99-5d1e1e1dfae3"
      },
      "execution_count": 11,
      "outputs": [
        {
          "output_type": "execute_result",
          "data": {
            "text/plain": [
              "0       2549\n",
              "1       2631\n",
              "2       2603\n",
              "3       2769\n",
              "4       1411\n",
              "        ... \n",
              "1995     668\n",
              "1996    2032\n",
              "1997    3057\n",
              "1998     869\n",
              "1999    3919\n",
              "Name: ram, Length: 2000, dtype: int64"
            ]
          },
          "metadata": {},
          "execution_count": 11
        }
      ]
    },
    {
      "cell_type": "code",
      "source": [
        "\n",
        "\n",
        "# 2.1 Split data into training and validation data, for both features and target:\n",
        "\n",
        "train_X, val_X, train_y, val_y = train_test_split(X,y,random_state=0)\n"
      ],
      "metadata": {
        "id": "GQo2mKzdX883"
      },
      "execution_count": 12,
      "outputs": []
    },
    {
      "cell_type": "code",
      "source": [
        "# 3.0 A function to model and also to calculate MAE\n",
        "def get_mae(max_leaf_nodes, train_X, val_X, train_y, val_y):\n",
        "  # 3.1 Instantiate Decision tree regressor\n",
        "    model = DecisionTreeRegressor(max_leaf_nodes=max_leaf_nodes, random_state=0)   #continuous values of ram hence dtreeregresor\n",
        "\n",
        "    # 3.2 Train model\n",
        "    model.fit(train_X, train_y)\n",
        "    # 3.3 Make predictions\n",
        "    preds_val = model.predict(val_X)\n",
        "    # 3.4 Get error\n",
        "    mae = mean_absolute_error(val_y, preds_val)\n",
        "    # 3.5 Return error\n",
        "    return(mae)\n"
      ],
      "metadata": {
        "id": "zddi6BOSX_r4"
      },
      "execution_count": 13,
      "outputs": []
    },
    {
      "cell_type": "code",
      "source": [
        "\n",
        "# 3.1 Compare MAE with differing values of max_leaf_nodes:\n",
        "#  Get\n",
        "\n",
        "for max_leaf_nodes in [5, 50, 500, 1000]:\n",
        "    my_mae = get_mae(max_leaf_nodes, train_X, val_X, train_y, val_y)\n",
        "    print(f\"Max leaf nodes: {max_leaf_nodes} \\t\\t Mean Absolute Error: {my_mae}\")"
      ],
      "metadata": {
        "colab": {
          "base_uri": "https://localhost:8080/"
        },
        "id": "7zopROKrt5wu",
        "outputId": "dc04e734-42bf-4756-8a5b-39ba514f427a"
      },
      "execution_count": 14,
      "outputs": [
        {
          "output_type": "stream",
          "name": "stdout",
          "text": [
            "Max leaf nodes: 5 \t\t Mean Absolute Error: 328.0137400362019\n",
            "Max leaf nodes: 50 \t\t Mean Absolute Error: 292.86164271266836\n",
            "Max leaf nodes: 500 \t\t Mean Absolute Error: 341.3223753093312\n",
            "Max leaf nodes: 1000 \t\t Mean Absolute Error: 345.8306666666666\n"
          ]
        }
      ]
    },
    {
      "cell_type": "code",
      "source": [
        "import matplotlib.pyplot as plt\n",
        "\n",
        "max_leaf_nodes = [5, 50, 500, 1000]\n",
        "mae_values = []\n",
        "\n",
        "for max_leaf_node in max_leaf_nodes:\n",
        "    my_mae = get_mae(max_leaf_node, train_X, val_X, train_y, val_y)\n",
        "    mae_values.append(my_mae)\n",
        "\n",
        "# Plotting the results\n",
        "plt.plot(max_leaf_nodes, mae_values, marker='o')\n",
        "plt.title('Max Leaf Nodes vs. Mean Absolute Error')\n",
        "plt.xlabel('Max Leaf Nodes')\n",
        "plt.ylabel('Mean Absolute Error')\n",
        "plt.grid(True)\n",
        "plt.show()\n"
      ],
      "metadata": {
        "colab": {
          "base_uri": "https://localhost:8080/",
          "height": 489
        },
        "id": "vE4csMoAvNGu",
        "outputId": "e484c5f3-2d1f-4ff6-b82a-9f0c7206c523"
      },
      "execution_count": 15,
      "outputs": [
        {
          "output_type": "execute_result",
          "data": {
            "text/plain": [
              "[<matplotlib.lines.Line2D at 0x7f140e7ff100>]"
            ]
          },
          "metadata": {},
          "execution_count": 15
        },
        {
          "output_type": "execute_result",
          "data": {
            "text/plain": [
              "Text(0.5, 1.0, 'Max Leaf Nodes vs. Mean Absolute Error')"
            ]
          },
          "metadata": {},
          "execution_count": 15
        },
        {
          "output_type": "execute_result",
          "data": {
            "text/plain": [
              "Text(0.5, 0, 'Max Leaf Nodes')"
            ]
          },
          "metadata": {},
          "execution_count": 15
        },
        {
          "output_type": "execute_result",
          "data": {
            "text/plain": [
              "Text(0, 0.5, 'Mean Absolute Error')"
            ]
          },
          "metadata": {},
          "execution_count": 15
        },
        {
          "output_type": "display_data",
          "data": {
            "text/plain": [
              "<Figure size 640x480 with 1 Axes>"
            ],
            "image/png": "[encoded data removed]"
          },
          "metadata": {}
        }
      ]
    },
    {
      "cell_type": "code",
      "source": [
        "\n",
        "# 3.2 Compare MAE with differing values of max_depth:\n",
        "#  Get\n",
        "\n",
        "for max_depth in [2, 10, 15, 20]:\n",
        "    my_mae = get_mae(max_depth, train_X, val_X, train_y, val_y)\n",
        "    print(f\"Max depth: {max_depth} \\t\\t Mean Absolute Error: {my_mae}\")"
      ],
      "metadata": {
        "colab": {
          "base_uri": "https://localhost:8080/"
        },
        "id": "nyzRdSUMYDOk",
        "outputId": "d1120c38-8d66-4567-8329-cc0f735becf4"
      },
      "execution_count": 16,
      "outputs": [
        {
          "output_type": "stream",
          "name": "stdout",
          "text": [
            "Max depth: 2 \t\t Mean Absolute Error: 525.8716507708398\n",
            "Max depth: 10 \t\t Mean Absolute Error: 287.809148968663\n",
            "Max depth: 15 \t\t Mean Absolute Error: 281.4569676301756\n",
            "Max depth: 20 \t\t Mean Absolute Error: 281.23574053182455\n"
          ]
        }
      ]
    },
    {
      "cell_type": "code",
      "source": [
        "max_depths = [2, 10, 15, 20]\n",
        "mae_values = []\n",
        "\n",
        "for max_depth in max_depths:\n",
        "    my_mae = get_mae(max_depth, train_X, val_X, train_y, val_y)\n",
        "    mae_values.append(my_mae)\n",
        "\n",
        "# Plotting the results\n",
        "plt.plot(max_depths, mae_values, marker='o')\n",
        "plt.title('Max Depth vs. Mean Absolute Error')\n",
        "plt.xlabel('Max Depth')\n",
        "plt.ylabel('Mean Absolute Error')\n",
        "plt.grid(True)\n",
        "plt.show()\n"
      ],
      "metadata": {
        "colab": {
          "base_uri": "https://localhost:8080/",
          "height": 489
        },
        "id": "peCmMMikvqNZ",
        "outputId": "2bc8db31-c353-4496-87ab-0f5e03afb63b"
      },
      "execution_count": 17,
      "outputs": [
        {
          "output_type": "execute_result",
          "data": {
            "text/plain": [
              "[<matplotlib.lines.Line2D at 0x7f140bd21180>]"
            ]
          },
          "metadata": {},
          "execution_count": 17
        },
        {
          "output_type": "execute_result",
          "data": {
            "text/plain": [
              "Text(0.5, 1.0, 'Max Depth vs. Mean Absolute Error')"
            ]
          },
          "metadata": {},
          "execution_count": 17
        },
        {
          "output_type": "execute_result",
          "data": {
            "text/plain": [
              "Text(0.5, 0, 'Max Depth')"
            ]
          },
          "metadata": {},
          "execution_count": 17
        },
        {
          "output_type": "execute_result",
          "data": {
            "text/plain": [
              "Text(0, 0.5, 'Mean Absolute Error')"
            ]
          },
          "metadata": {},
          "execution_count": 17
        },
        {
          "output_type": "display_data",
          "data": {
            "text/plain": [
              "<Figure size 640x480 with 1 Axes>"
            ],
            "image/png": "[encoded data removed]"
          },
          "metadata": {}
        }
      ]
    },
    {
      "cell_type": "code",
      "source": [
        "# 3.3 Compare MAE with differing values of min_samples_split:\n",
        "#  Get\n",
        "\n",
        "for min_samples_split in [2, 5, 8, 10]:\n",
        "    my_mae = get_mae(min_samples_split, train_X, val_X, train_y, val_y)\n",
        "    print(f\"Min sample split: {min_samples_split} \\t\\t Mean Absolute Error: {my_mae}\")"
      ],
      "metadata": {
        "colab": {
          "base_uri": "https://localhost:8080/"
        },
        "id": "f9wL4Y5-umho",
        "outputId": "65c5fa0d-9aad-44d6-d877-ca1a94e2fbb6"
      },
      "execution_count": 18,
      "outputs": [
        {
          "output_type": "stream",
          "name": "stdout",
          "text": [
            "Min sample split: 2 \t\t Mean Absolute Error: 525.8716507708398\n",
            "Min sample split: 5 \t\t Mean Absolute Error: 328.0137400362019\n",
            "Min sample split: 8 \t\t Mean Absolute Error: 299.70917453372454\n",
            "Min sample split: 10 \t\t Mean Absolute Error: 287.809148968663\n"
          ]
        }
      ]
    },
    {
      "cell_type": "code",
      "source": [
        "min_samples_splits = [2, 5, 8, 10]\n",
        "mae_values = []\n",
        "\n",
        "for min_samples_split in min_samples_splits:\n",
        "    my_mae = get_mae(min_samples_split, train_X, val_X, train_y, val_y)\n",
        "    mae_values.append(my_mae)\n",
        "\n",
        "# Plotting the results\n",
        "plt.plot(min_samples_splits, mae_values, marker='o')\n",
        "plt.title('Min Sample Split vs. Mean Absolute Error')\n",
        "plt.xlabel('Min Sample Split')\n",
        "plt.ylabel('Mean Absolute Error')\n",
        "plt.grid(True)\n",
        "plt.show()\n"
      ],
      "metadata": {
        "id": "xojcpIPkYKuk",
        "colab": {
          "base_uri": "https://localhost:8080/",
          "height": 489
        },
        "outputId": "d222f950-a73a-4348-f496-8e90cbb8fd5b"
      },
      "execution_count": 19,
      "outputs": [
        {
          "output_type": "execute_result",
          "data": {
            "text/plain": [
              "[<matplotlib.lines.Line2D at 0x7f140bdbad70>]"
            ]
          },
          "metadata": {},
          "execution_count": 19
        },
        {
          "output_type": "execute_result",
          "data": {
            "text/plain": [
              "Text(0.5, 1.0, 'Min Sample Split vs. Mean Absolute Error')"
            ]
          },
          "metadata": {},
          "execution_count": 19
        },
        {
          "output_type": "execute_result",
          "data": {
            "text/plain": [
              "Text(0.5, 0, 'Min Sample Split')"
            ]
          },
          "metadata": {},
          "execution_count": 19
        },
        {
          "output_type": "execute_result",
          "data": {
            "text/plain": [
              "Text(0, 0.5, 'Mean Absolute Error')"
            ]
          },
          "metadata": {},
          "execution_count": 19
        },
        {
          "output_type": "display_data",
          "data": {
            "text/plain": [
              "<Figure size 640x480 with 1 Axes>"
            ],
            "image/png": "[encoded data removed]"
          },
          "metadata": {}
        }
      ]
    },
    {
      "cell_type": "code",
      "source": [
        "# 3.4 Compare MAE with differing values of max_features:\n",
        "#  Get\n",
        "\n",
        "for max_features in [4, 10, 18, 20]:\n",
        "    my_mae = get_mae(max_features, train_X, val_X, train_y, val_y)\n",
        "    print(f\"Max features: {max_features} \\t\\t Mean Absolute Error: {my_mae}\")"
      ],
      "metadata": {
        "colab": {
          "base_uri": "https://localhost:8080/"
        },
        "id": "UFBSzL8twZc7",
        "outputId": "d0aceb71-db35-4801-f59d-24b97a85eae0"
      },
      "execution_count": 20,
      "outputs": [
        {
          "output_type": "stream",
          "name": "stdout",
          "text": [
            "Max features: 4 \t\t Mean Absolute Error: 336.1565142510854\n",
            "Max features: 10 \t\t Mean Absolute Error: 287.809148968663\n",
            "Max features: 18 \t\t Mean Absolute Error: 282.9902057533382\n",
            "Max features: 20 \t\t Mean Absolute Error: 281.23574053182455\n"
          ]
        }
      ]
    },
    {
      "cell_type": "code",
      "source": [
        "max_features = [4, 10, 18, 20]\n",
        "mae_values = []\n",
        "\n",
        "for feature in max_features:\n",
        "    my_mae = get_mae(feature, train_X, val_X, train_y, val_y)\n",
        "    mae_values.append(my_mae)\n",
        "\n",
        "# Plotting the results\n",
        "plt.plot(max_features, mae_values, marker='o')\n",
        "plt.title('Max Features vs. Mean Absolute Error')\n",
        "plt.xlabel('Max Features')\n",
        "plt.ylabel('Mean Absolute Error')\n",
        "plt.grid(True)\n",
        "plt.show()\n"
      ],
      "metadata": {
        "colab": {
          "base_uri": "https://localhost:8080/",
          "height": 489
        },
        "id": "6pRxFWyAxR_a",
        "outputId": "5de5e24b-d196-44d9-f9fb-d764c53d87a1"
      },
      "execution_count": 21,
      "outputs": [
        {
          "output_type": "execute_result",
          "data": {
            "text/plain": [
              "[<matplotlib.lines.Line2D at 0x7f140bc49c60>]"
            ]
          },
          "metadata": {},
          "execution_count": 21
        },
        {
          "output_type": "execute_result",
          "data": {
            "text/plain": [
              "Text(0.5, 1.0, 'Max Features vs. Mean Absolute Error')"
            ]
          },
          "metadata": {},
          "execution_count": 21
        },
        {
          "output_type": "execute_result",
          "data": {
            "text/plain": [
              "Text(0.5, 0, 'Max Features')"
            ]
          },
          "metadata": {},
          "execution_count": 21
        },
        {
          "output_type": "execute_result",
          "data": {
            "text/plain": [
              "Text(0, 0.5, 'Mean Absolute Error')"
            ]
          },
          "metadata": {},
          "execution_count": 21
        },
        {
          "output_type": "display_data",
          "data": {
            "text/plain": [
              "<Figure size 640x480 with 1 Axes>"
            ],
            "image/png": "[encoded data removed]"
          },
          "metadata": {}
        }
      ]
    },
    {
      "cell_type": "code",
      "source": [],
      "metadata": {
        "id": "wau10fC9zlsN"
      },
      "execution_count": 21,
      "outputs": []
    }
  ]
}